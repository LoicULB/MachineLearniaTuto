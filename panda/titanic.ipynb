{
 "cells": [
  {
   "cell_type": "code",
   "execution_count": 1,
   "metadata": {},
   "outputs": [],
   "source": [
    "import pandas as pd \n",
    "import numpy as np \n",
    "import matplotlib.pyplot as plt "
   ]
  },
  {
   "cell_type": "code",
   "execution_count": 2,
   "metadata": {},
   "outputs": [],
   "source": [
    "data = pd.read_excel('titanic3.xls')"
   ]
  },
  {
   "cell_type": "code",
   "execution_count": 3,
   "outputs": [
    {
     "data": {
      "text/plain": "   pclass  survived                                             name     sex  \\\n0       1         1                    Allen, Miss. Elisabeth Walton  female   \n1       1         1                   Allison, Master. Hudson Trevor    male   \n2       1         0                     Allison, Miss. Helen Loraine  female   \n3       1         0             Allison, Mr. Hudson Joshua Creighton    male   \n4       1         0  Allison, Mrs. Hudson J C (Bessie Waldo Daniels)  female   \n\n       age  sibsp  parch  ticket      fare    cabin embarked boat   body  \\\n0  29.0000      0      0   24160  211.3375       B5        S    2    NaN   \n1   0.9167      1      2  113781  151.5500  C22 C26        S   11    NaN   \n2   2.0000      1      2  113781  151.5500  C22 C26        S  NaN    NaN   \n3  30.0000      1      2  113781  151.5500  C22 C26        S  NaN  135.0   \n4  25.0000      1      2  113781  151.5500  C22 C26        S  NaN    NaN   \n\n                         home.dest  \n0                     St Louis, MO  \n1  Montreal, PQ / Chesterville, ON  \n2  Montreal, PQ / Chesterville, ON  \n3  Montreal, PQ / Chesterville, ON  \n4  Montreal, PQ / Chesterville, ON  ",
      "text/html": "<div>\n<style scoped>\n    .dataframe tbody tr th:only-of-type {\n        vertical-align: middle;\n    }\n\n    .dataframe tbody tr th {\n        vertical-align: top;\n    }\n\n    .dataframe thead th {\n        text-align: right;\n    }\n</style>\n<table border=\"1\" class=\"dataframe\">\n  <thead>\n    <tr style=\"text-align: right;\">\n      <th></th>\n      <th>pclass</th>\n      <th>survived</th>\n      <th>name</th>\n      <th>sex</th>\n      <th>age</th>\n      <th>sibsp</th>\n      <th>parch</th>\n      <th>ticket</th>\n      <th>fare</th>\n      <th>cabin</th>\n      <th>embarked</th>\n      <th>boat</th>\n      <th>body</th>\n      <th>home.dest</th>\n    </tr>\n  </thead>\n  <tbody>\n    <tr>\n      <th>0</th>\n      <td>1</td>\n      <td>1</td>\n      <td>Allen, Miss. Elisabeth Walton</td>\n      <td>female</td>\n      <td>29.0000</td>\n      <td>0</td>\n      <td>0</td>\n      <td>24160</td>\n      <td>211.3375</td>\n      <td>B5</td>\n      <td>S</td>\n      <td>2</td>\n      <td>NaN</td>\n      <td>St Louis, MO</td>\n    </tr>\n    <tr>\n      <th>1</th>\n      <td>1</td>\n      <td>1</td>\n      <td>Allison, Master. Hudson Trevor</td>\n      <td>male</td>\n      <td>0.9167</td>\n      <td>1</td>\n      <td>2</td>\n      <td>113781</td>\n      <td>151.5500</td>\n      <td>C22 C26</td>\n      <td>S</td>\n      <td>11</td>\n      <td>NaN</td>\n      <td>Montreal, PQ / Chesterville, ON</td>\n    </tr>\n    <tr>\n      <th>2</th>\n      <td>1</td>\n      <td>0</td>\n      <td>Allison, Miss. Helen Loraine</td>\n      <td>female</td>\n      <td>2.0000</td>\n      <td>1</td>\n      <td>2</td>\n      <td>113781</td>\n      <td>151.5500</td>\n      <td>C22 C26</td>\n      <td>S</td>\n      <td>NaN</td>\n      <td>NaN</td>\n      <td>Montreal, PQ / Chesterville, ON</td>\n    </tr>\n    <tr>\n      <th>3</th>\n      <td>1</td>\n      <td>0</td>\n      <td>Allison, Mr. Hudson Joshua Creighton</td>\n      <td>male</td>\n      <td>30.0000</td>\n      <td>1</td>\n      <td>2</td>\n      <td>113781</td>\n      <td>151.5500</td>\n      <td>C22 C26</td>\n      <td>S</td>\n      <td>NaN</td>\n      <td>135.0</td>\n      <td>Montreal, PQ / Chesterville, ON</td>\n    </tr>\n    <tr>\n      <th>4</th>\n      <td>1</td>\n      <td>0</td>\n      <td>Allison, Mrs. Hudson J C (Bessie Waldo Daniels)</td>\n      <td>female</td>\n      <td>25.0000</td>\n      <td>1</td>\n      <td>2</td>\n      <td>113781</td>\n      <td>151.5500</td>\n      <td>C22 C26</td>\n      <td>S</td>\n      <td>NaN</td>\n      <td>NaN</td>\n      <td>Montreal, PQ / Chesterville, ON</td>\n    </tr>\n  </tbody>\n</table>\n</div>"
     },
     "execution_count": 3,
     "metadata": {},
     "output_type": "execute_result"
    }
   ],
   "source": [
    "data.shape\n",
    "data.head()"
   ],
   "metadata": {
    "collapsed": false,
    "pycharm": {
     "name": "#%%\n"
    }
   }
  },
  {
   "cell_type": "code",
   "execution_count": 4,
   "outputs": [
    {
     "data": {
      "text/plain": "            pclass     survived          age        sibsp        parch  \\\ncount  1309.000000  1309.000000  1046.000000  1309.000000  1309.000000   \nmean      2.294882     0.381971    29.881135     0.498854     0.385027   \nstd       0.837836     0.486055    14.413500     1.041658     0.865560   \nmin       1.000000     0.000000     0.166700     0.000000     0.000000   \n25%       2.000000     0.000000    21.000000     0.000000     0.000000   \n50%       3.000000     0.000000    28.000000     0.000000     0.000000   \n75%       3.000000     1.000000    39.000000     1.000000     0.000000   \nmax       3.000000     1.000000    80.000000     8.000000     9.000000   \n\n              fare        body  \ncount  1308.000000  121.000000  \nmean     33.295479  160.809917  \nstd      51.758668   97.696922  \nmin       0.000000    1.000000  \n25%       7.895800   72.000000  \n50%      14.454200  155.000000  \n75%      31.275000  256.000000  \nmax     512.329200  328.000000  ",
      "text/html": "<div>\n<style scoped>\n    .dataframe tbody tr th:only-of-type {\n        vertical-align: middle;\n    }\n\n    .dataframe tbody tr th {\n        vertical-align: top;\n    }\n\n    .dataframe thead th {\n        text-align: right;\n    }\n</style>\n<table border=\"1\" class=\"dataframe\">\n  <thead>\n    <tr style=\"text-align: right;\">\n      <th></th>\n      <th>pclass</th>\n      <th>survived</th>\n      <th>age</th>\n      <th>sibsp</th>\n      <th>parch</th>\n      <th>fare</th>\n      <th>body</th>\n    </tr>\n  </thead>\n  <tbody>\n    <tr>\n      <th>count</th>\n      <td>1309.000000</td>\n      <td>1309.000000</td>\n      <td>1046.000000</td>\n      <td>1309.000000</td>\n      <td>1309.000000</td>\n      <td>1308.000000</td>\n      <td>121.000000</td>\n    </tr>\n    <tr>\n      <th>mean</th>\n      <td>2.294882</td>\n      <td>0.381971</td>\n      <td>29.881135</td>\n      <td>0.498854</td>\n      <td>0.385027</td>\n      <td>33.295479</td>\n      <td>160.809917</td>\n    </tr>\n    <tr>\n      <th>std</th>\n      <td>0.837836</td>\n      <td>0.486055</td>\n      <td>14.413500</td>\n      <td>1.041658</td>\n      <td>0.865560</td>\n      <td>51.758668</td>\n      <td>97.696922</td>\n    </tr>\n    <tr>\n      <th>min</th>\n      <td>1.000000</td>\n      <td>0.000000</td>\n      <td>0.166700</td>\n      <td>0.000000</td>\n      <td>0.000000</td>\n      <td>0.000000</td>\n      <td>1.000000</td>\n    </tr>\n    <tr>\n      <th>25%</th>\n      <td>2.000000</td>\n      <td>0.000000</td>\n      <td>21.000000</td>\n      <td>0.000000</td>\n      <td>0.000000</td>\n      <td>7.895800</td>\n      <td>72.000000</td>\n    </tr>\n    <tr>\n      <th>50%</th>\n      <td>3.000000</td>\n      <td>0.000000</td>\n      <td>28.000000</td>\n      <td>0.000000</td>\n      <td>0.000000</td>\n      <td>14.454200</td>\n      <td>155.000000</td>\n    </tr>\n    <tr>\n      <th>75%</th>\n      <td>3.000000</td>\n      <td>1.000000</td>\n      <td>39.000000</td>\n      <td>1.000000</td>\n      <td>0.000000</td>\n      <td>31.275000</td>\n      <td>256.000000</td>\n    </tr>\n    <tr>\n      <th>max</th>\n      <td>3.000000</td>\n      <td>1.000000</td>\n      <td>80.000000</td>\n      <td>8.000000</td>\n      <td>9.000000</td>\n      <td>512.329200</td>\n      <td>328.000000</td>\n    </tr>\n  </tbody>\n</table>\n</div>"
     },
     "execution_count": 4,
     "metadata": {},
     "output_type": "execute_result"
    }
   ],
   "source": [
    "data.describe()"
   ],
   "metadata": {
    "collapsed": false,
    "pycharm": {
     "name": "#%%\n"
    }
   }
  },
  {
   "cell_type": "code",
   "execution_count": 5,
   "outputs": [],
   "source": [
    "data = data.filter(['pclass', 'survived', 'age', 'sex'])"
   ],
   "metadata": {
    "collapsed": false,
    "pycharm": {
     "name": "#%%\n"
    }
   }
  },
  {
   "cell_type": "code",
   "execution_count": 6,
   "outputs": [
    {
     "data": {
      "text/plain": "      pclass  survived      age     sex\n0          1         1  29.0000  female\n1          1         1   0.9167    male\n2          1         0   2.0000  female\n3          1         0  30.0000    male\n4          1         0  25.0000  female\n...      ...       ...      ...     ...\n1304       3         0  14.5000  female\n1305       3         0      NaN  female\n1306       3         0  26.5000    male\n1307       3         0  27.0000    male\n1308       3         0  29.0000    male\n\n[1309 rows x 4 columns]",
      "text/html": "<div>\n<style scoped>\n    .dataframe tbody tr th:only-of-type {\n        vertical-align: middle;\n    }\n\n    .dataframe tbody tr th {\n        vertical-align: top;\n    }\n\n    .dataframe thead th {\n        text-align: right;\n    }\n</style>\n<table border=\"1\" class=\"dataframe\">\n  <thead>\n    <tr style=\"text-align: right;\">\n      <th></th>\n      <th>pclass</th>\n      <th>survived</th>\n      <th>age</th>\n      <th>sex</th>\n    </tr>\n  </thead>\n  <tbody>\n    <tr>\n      <th>0</th>\n      <td>1</td>\n      <td>1</td>\n      <td>29.0000</td>\n      <td>female</td>\n    </tr>\n    <tr>\n      <th>1</th>\n      <td>1</td>\n      <td>1</td>\n      <td>0.9167</td>\n      <td>male</td>\n    </tr>\n    <tr>\n      <th>2</th>\n      <td>1</td>\n      <td>0</td>\n      <td>2.0000</td>\n      <td>female</td>\n    </tr>\n    <tr>\n      <th>3</th>\n      <td>1</td>\n      <td>0</td>\n      <td>30.0000</td>\n      <td>male</td>\n    </tr>\n    <tr>\n      <th>4</th>\n      <td>1</td>\n      <td>0</td>\n      <td>25.0000</td>\n      <td>female</td>\n    </tr>\n    <tr>\n      <th>...</th>\n      <td>...</td>\n      <td>...</td>\n      <td>...</td>\n      <td>...</td>\n    </tr>\n    <tr>\n      <th>1304</th>\n      <td>3</td>\n      <td>0</td>\n      <td>14.5000</td>\n      <td>female</td>\n    </tr>\n    <tr>\n      <th>1305</th>\n      <td>3</td>\n      <td>0</td>\n      <td>NaN</td>\n      <td>female</td>\n    </tr>\n    <tr>\n      <th>1306</th>\n      <td>3</td>\n      <td>0</td>\n      <td>26.5000</td>\n      <td>male</td>\n    </tr>\n    <tr>\n      <th>1307</th>\n      <td>3</td>\n      <td>0</td>\n      <td>27.0000</td>\n      <td>male</td>\n    </tr>\n    <tr>\n      <th>1308</th>\n      <td>3</td>\n      <td>0</td>\n      <td>29.0000</td>\n      <td>male</td>\n    </tr>\n  </tbody>\n</table>\n<p>1309 rows × 4 columns</p>\n</div>"
     },
     "execution_count": 6,
     "metadata": {},
     "output_type": "execute_result"
    }
   ],
   "source": [
    "data"
   ],
   "metadata": {
    "collapsed": false,
    "pycharm": {
     "name": "#%%\n"
    }
   }
  },
  {
   "cell_type": "code",
   "execution_count": 7,
   "outputs": [],
   "source": [
    "data = data.dropna(axis=0)"
   ],
   "metadata": {
    "collapsed": false,
    "pycharm": {
     "name": "#%%\n"
    }
   }
  },
  {
   "cell_type": "code",
   "execution_count": 8,
   "outputs": [
    {
     "data": {
      "text/plain": "<AxesSubplot:>"
     },
     "execution_count": 8,
     "metadata": {},
     "output_type": "execute_result"
    },
    {
     "data": {
      "text/plain": "<Figure size 432x288 with 1 Axes>",
      "image/png": "[encoded data removed]"
     },
     "metadata": {
      "needs_background": "light"
     },
     "output_type": "display_data"
    }
   ],
   "source": [
    "data['age'].hist()"
   ],
   "metadata": {
    "collapsed": false,
    "pycharm": {
     "name": "#%%\n"
    }
   }
  },
  {
   "cell_type": "code",
   "execution_count": 9,
   "outputs": [
    {
     "data": {
      "text/plain": "               survived        age\nsex    pclass                     \nfemale 1       0.962406  37.037594\n       2       0.893204  27.499191\n       3       0.473684  22.185307\nmale   1       0.350993  41.029250\n       2       0.145570  30.815401\n       3       0.169054  25.962273",
      "text/html": "<div>\n<style scoped>\n    .dataframe tbody tr th:only-of-type {\n        vertical-align: middle;\n    }\n\n    .dataframe tbody tr th {\n        vertical-align: top;\n    }\n\n    .dataframe thead th {\n        text-align: right;\n    }\n</style>\n<table border=\"1\" class=\"dataframe\">\n  <thead>\n    <tr style=\"text-align: right;\">\n      <th></th>\n      <th></th>\n      <th>survived</th>\n      <th>age</th>\n    </tr>\n    <tr>\n      <th>sex</th>\n      <th>pclass</th>\n      <th></th>\n      <th></th>\n    </tr>\n  </thead>\n  <tbody>\n    <tr>\n      <th rowspan=\"3\" valign=\"top\">female</th>\n      <th>1</th>\n      <td>0.962406</td>\n      <td>37.037594</td>\n    </tr>\n    <tr>\n      <th>2</th>\n      <td>0.893204</td>\n      <td>27.499191</td>\n    </tr>\n    <tr>\n      <th>3</th>\n      <td>0.473684</td>\n      <td>22.185307</td>\n    </tr>\n    <tr>\n      <th rowspan=\"3\" valign=\"top\">male</th>\n      <th>1</th>\n      <td>0.350993</td>\n      <td>41.029250</td>\n    </tr>\n    <tr>\n      <th>2</th>\n      <td>0.145570</td>\n      <td>30.815401</td>\n    </tr>\n    <tr>\n      <th>3</th>\n      <td>0.169054</td>\n      <td>25.962273</td>\n    </tr>\n  </tbody>\n</table>\n</div>"
     },
     "execution_count": 9,
     "metadata": {},
     "output_type": "execute_result"
    }
   ],
   "source": [
    "data.groupby(['sex', 'pclass']).mean()"
   ],
   "metadata": {
    "collapsed": false,
    "pycharm": {
     "name": "#%%\n"
    }
   }
  },
  {
   "cell_type": "code",
   "execution_count": 10,
   "outputs": [
    {
     "data": {
      "text/plain": "pclass  survived  age   sex   \n3       0         21.0  male      19\n                  22.0  male      16\n                  24.0  male      14\n                  28.0  male      13\n                  26.0  male      12\n                                  ..\n2       1         13.0  female     1\n                  14.0  female     1\n                  15.0  female     1\n1       0         17.0  male       1\n3       1         63.0  female     1\nLength: 423, dtype: int64"
     },
     "execution_count": 10,
     "metadata": {},
     "output_type": "execute_result"
    }
   ],
   "source": [
    "data.value_counts()"
   ],
   "metadata": {
    "collapsed": false,
    "pycharm": {
     "name": "#%%\n"
    }
   }
  },
  {
   "cell_type": "code",
   "execution_count": 11,
   "outputs": [
    {
     "data": {
      "text/plain": "3    501\n1    284\n2    261\nName: pclass, dtype: int64"
     },
     "execution_count": 11,
     "metadata": {},
     "output_type": "execute_result"
    }
   ],
   "source": [
    "data['pclass'].value_counts()"
   ],
   "metadata": {
    "collapsed": false,
    "pycharm": {
     "name": "#%%\n"
    }
   }
  },
  {
   "cell_type": "code",
   "execution_count": 12,
   "outputs": [
    {
     "data": {
      "text/plain": "3    106\n2     33\n1     15\nName: pclass, dtype: int64"
     },
     "execution_count": 12,
     "metadata": {},
     "output_type": "execute_result"
    }
   ],
   "source": [
    "#nombre de passagers de chaques classes qui ont moins de 18 ans\n",
    "data[data['age'] < 18]['pclass'].value_counts()"
   ],
   "metadata": {
    "collapsed": false,
    "pycharm": {
     "name": "#%%\n"
    }
   }
  },
  {
   "cell_type": "markdown",
   "source": [
    "## Exerxice\n",
    "Remplacer l'âge par sa catégorie correspondante\n",
    "Les catégories sont : \"moins de 20\" , entre 20 et 30, \"entre 30 et 40\" et + de 40"
   ],
   "metadata": {
    "collapsed": false
   }
  },
  {
   "cell_type": "code",
   "execution_count": 18,
   "outputs": [
    {
     "name": "stderr",
     "output_type": "stream",
     "text": [
      "/tmp/ipykernel_5043/1148500705.py:16: SettingWithCopyWarning: \n",
      "A value is trying to be set on a copy of a slice from a DataFrame.\n",
      "Try using .loc[row_indexer,col_indexer] = value instead\n",
      "\n",
      "See the caveats in the documentation: https://pandas.pydata.org/pandas-docs/stable/user_guide/indexing.html#returning-a-view-versus-a-copy\n",
      "  data['age'] = data['age'].map(get_category)\n"
     ]
    }
   ],
   "source": [
    "def get_category(age :int ):\n",
    "    \"\"\"\n",
    "    Return the corresponding category of the person according to her age\n",
    "    :param age:\n",
    "    :return:\n",
    "    \"\"\"\n",
    "    if age < 20:\n",
    "        return 0\n",
    "    elif age >= 20 and age < 30:\n",
    "        return 1\n",
    "    elif age >= 30 and age < 40:\n",
    "        return 2\n",
    "    else:\n",
    "        return 3\n",
    "\n",
    "data['age'] = data['age'].map(get_category)"
   ],
   "metadata": {
    "collapsed": false,
    "pycharm": {
     "name": "#%%\n"
    }
   }
  },
  {
   "cell_type": "code",
   "execution_count": 20,
   "outputs": [
    {
     "data": {
      "text/plain": "      pclass  survived  age     sex\n0          1         1    1  female\n1          1         1    0    male\n2          1         0    0  female\n3          1         0    2    male\n4          1         0    1  female\n...      ...       ...  ...     ...\n1301       3         0    3    male\n1304       3         0    0  female\n1306       3         0    1    male\n1307       3         0    1    male\n1308       3         0    1    male\n\n[1046 rows x 4 columns]",
      "text/html": "<div>\n<style scoped>\n    .dataframe tbody tr th:only-of-type {\n        vertical-align: middle;\n    }\n\n    .dataframe tbody tr th {\n        vertical-align: top;\n    }\n\n    .dataframe thead th {\n        text-align: right;\n    }\n</style>\n<table border=\"1\" class=\"dataframe\">\n  <thead>\n    <tr style=\"text-align: right;\">\n      <th></th>\n      <th>pclass</th>\n      <th>survived</th>\n      <th>age</th>\n      <th>sex</th>\n    </tr>\n  </thead>\n  <tbody>\n    <tr>\n      <th>0</th>\n      <td>1</td>\n      <td>1</td>\n      <td>1</td>\n      <td>female</td>\n    </tr>\n    <tr>\n      <th>1</th>\n      <td>1</td>\n      <td>1</td>\n      <td>0</td>\n      <td>male</td>\n    </tr>\n    <tr>\n      <th>2</th>\n      <td>1</td>\n      <td>0</td>\n      <td>0</td>\n      <td>female</td>\n    </tr>\n    <tr>\n      <th>3</th>\n      <td>1</td>\n      <td>0</td>\n      <td>2</td>\n      <td>male</td>\n    </tr>\n    <tr>\n      <th>4</th>\n      <td>1</td>\n      <td>0</td>\n      <td>1</td>\n      <td>female</td>\n    </tr>\n    <tr>\n      <th>...</th>\n      <td>...</td>\n      <td>...</td>\n      <td>...</td>\n      <td>...</td>\n    </tr>\n    <tr>\n      <th>1301</th>\n      <td>3</td>\n      <td>0</td>\n      <td>3</td>\n      <td>male</td>\n    </tr>\n    <tr>\n      <th>1304</th>\n      <td>3</td>\n      <td>0</td>\n      <td>0</td>\n      <td>female</td>\n    </tr>\n    <tr>\n      <th>1306</th>\n      <td>3</td>\n      <td>0</td>\n      <td>1</td>\n      <td>male</td>\n    </tr>\n    <tr>\n      <th>1307</th>\n      <td>3</td>\n      <td>0</td>\n      <td>1</td>\n      <td>male</td>\n    </tr>\n    <tr>\n      <th>1308</th>\n      <td>3</td>\n      <td>0</td>\n      <td>1</td>\n      <td>male</td>\n    </tr>\n  </tbody>\n</table>\n<p>1046 rows × 4 columns</p>\n</div>"
     },
     "execution_count": 20,
     "metadata": {},
     "output_type": "execute_result"
    }
   ],
   "source": [
    "data"
   ],
   "metadata": {
    "collapsed": false,
    "pycharm": {
     "name": "#%%\n"
    }
   }
  },
  {
   "cell_type": "code",
   "execution_count": null,
   "outputs": [],
   "source": [],
   "metadata": {
    "collapsed": false,
    "pycharm": {
     "name": "#%%\n"
    }
   }
  },
  {
   "cell_type": "code",
   "execution_count": null,
   "outputs": [],
   "source": [],
   "metadata": {
    "collapsed": false,
    "pycharm": {
     "name": "#%%\n"
    }
   }
  },
  {
   "cell_type": "code",
   "execution_count": 23,
   "outputs": [
    {
     "data": {
      "text/plain": "0       0\n1       1\n2       0\n3       1\n4       0\n       ..\n1301    1\n1304    0\n1306    1\n1307    1\n1308    1\nLength: 1046, dtype: int8"
     },
     "execution_count": 23,
     "metadata": {},
     "output_type": "execute_result"
    }
   ],
   "source": [
    "data['sex'].astype('category').cat.codes"
   ],
   "metadata": {
    "collapsed": false,
    "pycharm": {
     "name": "#%%\n"
    }
   }
  },
  {
   "cell_type": "code",
   "execution_count": null,
   "outputs": [],
   "source": [],
   "metadata": {
    "collapsed": false,
    "pycharm": {
     "name": "#%%\n"
    }
   }
  }
 ],
 "metadata": {
  "interpreter": {
   "hash": "916dbcbb3f70747c44a77c7bcd40155683ae19c65e1c03b4aa3499c5328201f1"
  },
  "kernelspec": {
   "display_name": "Python 3.8.10 64-bit",
   "language": "python",
   "name": "python3"
  },
  "language_info": {
   "codemirror_mode": {
    "name": "ipython",
    "version": 3
   },
   "file_extension": ".py",
   "mimetype": "text/x-python",
   "name": "python",
   "nbconvert_exporter": "python",
   "pygments_lexer": "ipython3",
   "version": "3.8.10"
  },
  "orig_nbformat": 4
 },
 "nbformat": 4,
 "nbformat_minor": 2
}